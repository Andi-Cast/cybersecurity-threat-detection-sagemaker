{
 "cells": [
  {
   "cell_type": "code",
   "execution_count": null,
   "id": "8b5b19bb",
   "metadata": {
    "vscode": {
     "languageId": "plaintext"
    }
   },
   "outputs": [],
   "source": [
    "## Load and Explore the Dataset \n",
    "\n",
    "# Libraries Used\n",
    "# boto3  → AWS SDK for Python, used here to connect to AWS S3 and download/upload files.\n",
    "# pandas → Data analysis library, used to read, explore, and preprocess the dataset.\n",
    "# io     → Provides file-like structures (in-memory buffers), \n",
    "#           allowing us to load raw bytes from S3 directly into pandas without saving to disk.\n",
    "\n",
    "import boto3\n",
    "import pandas as pd\n",
    "import io\n",
    "\n",
    "# Setup S3 client\n",
    "s3_client = boto3.client('s3')\n",
    "BucketName= 'your_bucket_name' ##insert your bucket name\n",
    "\n",
    "# Download the file into memory\n",
    "# First Create raw/data folder and upload raw data\n",
    "response = s3_client.get_object(Bucket= BucketName, Key='raw-data/UNSW_NB15_training-set.csv')\n",
    "\n",
    "# Read it into pandas\n",
    "df = pd.read_csv(io.BytesIO(response['Body'].read()))\n"
   ]
  },
  {
   "cell_type": "code",
   "execution_count": null,
   "id": "4d5c1ec0",
   "metadata": {
    "vscode": {
     "languageId": "plaintext"
    }
   },
   "outputs": [],
   "source": [
    "#Cleaning Up Data\n",
    "\n",
    "# Drop irrelevant columns\n",
    "df = df.drop(columns=['id', 'attack_cat'])\n",
    "\n",
    "# Feature engineering BEFORE encoding/scaling\n",
    "# This helps model better detect patterns\n",
    "df['byte_ratio'] = df['sbytes'] / (df['dbytes'] + 1)\n",
    "df['is_common_port'] = df['ct_dst_sport_ltm'].isin([80, 443, 22]).astype(int)\n",
    "df['flow_intensity'] = (df['spkts'] + df['dpkts']) / (df['dur'] + 1e-6)\n",
    "\n",
    "# One-hot encode categorical columns \n",
    "# This splits text columns into multiple binary columns\n",
    "categorical_cols = ['proto', 'service', 'state']\n",
    "df = pd.get_dummies(df, columns=categorical_cols)\n",
    "\n",
    "# Convert booleans to ints\n",
    "df = df.astype({col: 'int' for col in df.columns if df[col].dtype == 'bool'})\n",
    "\n",
    "# Scale numerical features (except label)\n",
    "from sklearn.preprocessing import StandardScaler\n",
    "\n",
    "numerical_cols = df.select_dtypes(include=['int64', 'float64']).columns.tolist()\n",
    "numerical_cols.remove('label')\n",
    "\n",
    "scaler = StandardScaler()\n",
    "df[numerical_cols] = scaler.fit_transform(df[numerical_cols])\n",
    "\n",
    "# Checks \n",
    "print(df.shape)                                  # Final number of rows & columns\n",
    "print(df.head())                                 # Preview first few rows\n",
    "print(df.describe().T[['mean', 'std']])          # Confirm scaling stats\n",
    "print(df[numerical_cols].mean().round(3))        # Should be ~0\n",
    "print(df[numerical_cols].std().round(3))         # Should be ~1\n"
   ]
  },
  {
   "cell_type": "code",
   "execution_count": null,
   "id": "f517a7bb",
   "metadata": {
    "vscode": {
     "languageId": "plaintext"
    }
   },
   "outputs": [],
   "source": [
    "# sagemaker is used to train the model\n",
    "import sagemaker\n",
    "from sagemaker import get_execution_role\n",
    "\n",
    "# Create SageMaker session and define bucket\n",
    "session = sagemaker.Session()\n",
    "bucket = 'your_bucketname'  # Replace with your actual S3 bucket name\n",
    "processed_prefix = 'processed-data'      # Folder in S3 to store processed files\n",
    "\n",
    "# Save preprocessed data locally\n",
    "df.to_csv('preprocessed_data.csv', index=False)\n",
    "\n",
    "# Upload to S3 inside the 'processed-data/' folder\n",
    "s3_path = session.upload_data(\n",
    "    path='preprocessed_data.csv',\n",
    "    bucket=bucket,\n",
    "    key_prefix=processed_prefix\n",
    ")\n"
   ]
  },
  {
   "cell_type": "code",
   "execution_count": null,
   "id": "97bbdc1d",
   "metadata": {
    "vscode": {
     "languageId": "plaintext"
    }
   },
   "outputs": [],
   "source": [
    "# Load preprocessed data from S3\n",
    "import pandas as pd\n",
    "import boto3\n",
    "import sagemaker\n",
    "\n",
    "# Set up session and bucket\n",
    "session = sagemaker.Session()\n",
    "bucket = 'your_bucketname'\n",
    "processed_prefix = 'processed-data'\n",
    "\n",
    "# Download preprocessed data from S3\n",
    "s3 = boto3.client('s3')\n",
    "file_name = 'preprocessed_data.csv'\n",
    "s3.download_file(bucket, f'{processed_prefix}/{file_name}', file_name)\n",
    "\n",
    "# Load into pandas\n",
    "df = pd.read_csv(file_name)\n",
    "df.head()"
   ]
  },
  {
   "cell_type": "code",
   "execution_count": null,
   "id": "dafcdd4a",
   "metadata": {
    "vscode": {
     "languageId": "plaintext"
    }
   },
   "outputs": [],
   "source": [
    "#Split Data into Train/Test Sets\n",
    "\n",
    "#train_test_split is used to split data into training and testing sets \n",
    "#dump_svmlight_file is used to save data in LibSVM format which is required by XGBoost\n",
    "from sklearn.model_selection import train_test_split\n",
    "from sklearn.datasets import dump_svmlight_file\n",
    "import pandas as pd\n",
    "\n",
    "# Load data\n",
    "df = pd.read_csv('preprocessed_data.csv')\n",
    "X = df.drop(columns=['label'])\n",
    "y = df['label']\n",
    "\n",
    "# Split data\n",
    "# 80% of data is used to train and other 20% for testing \n",
    "X_train, X_test, y_train, y_test = train_test_split(\n",
    "    X, y, test_size=0.2, random_state=42\n",
    ")\n",
    "\n",
    "# CSV for inspection\n",
    "train_df = pd.concat([y_train, X_train], axis=1)\n",
    "test_df = pd.concat([y_test, X_test], axis=1)\n",
    "train_df.to_csv('train.csv', index=False)\n",
    "test_df.to_csv('test.csv', index=False)\n",
    "\n",
    "# LIBSVM for SageMaker - fixed version\n",
    "dump_svmlight_file(X_train, y_train.values.ravel(), 'train.libsvm')\n",
    "dump_svmlight_file(X_test, y_test.values.ravel(), 'test.libsvm')"
   ]
  },
  {
   "cell_type": "code",
   "execution_count": null,
   "id": "7c485f73",
   "metadata": {
    "vscode": {
     "languageId": "plaintext"
    }
   },
   "outputs": [],
   "source": [
    "#Set Up XGBoost Training Job\n",
    "\n",
    "#image_uri fetches the right algorithm\n",
    "#Estimator defines teh training job \n",
    "from sagemaker import image_uris\n",
    "from sagemaker.estimator import Estimator\n",
    "\n",
    "# this gets the XGBoost training container image\n",
    "xgboost_image_uri = image_uris.retrieve(\"xgboost\", region=session.boto_region_name, version=\"1.3-1\")\n",
    "\n",
    "xgb = Estimator(\n",
    "    image_uri=xgboost_image_uri,\n",
    "    role=sagemaker.get_execution_role(),\n",
    "    instance_count=1,\n",
    "    instance_type='ml.m5.large',\n",
    "    output_path=f's3://your-bucketname/xgboost-model-output',\n",
    "    sagemaker_session=session\n",
    ")\n",
    "\n",
    "xgb.set_hyperparameters(\n",
    "    objective='binary:logistic',\n",
    "    num_round=100,\n",
    "    max_depth=5,\n",
    "    eta=0.2,\n",
    "    gamma=4,\n",
    "    min_child_weight=6,\n",
    "    subsample=0.8,\n",
    "    verbosity=1\n",
    ")\n",
    "\n",
    "# Train using data channels\n",
    "xgb.fit({'train': train_input, 'validation': test_input})"
   ]
  },
  {
   "cell_type": "code",
   "execution_count": null,
   "id": "0e50d39a",
   "metadata": {
    "vscode": {
     "languageId": "plaintext"
    }
   },
   "outputs": [],
   "source": [
    "#Evaluate Model Performance\n",
    " !pip install xgboost\n",
    "\n",
    "import pandas as pd\n",
    "import xgboost as xgb\n",
    "from sklearn.metrics import accuracy_score, classification_report\n",
    "\n",
    "# Load and convert data\n",
    "train_data = pd.read_csv('train.csv', header=None, dtype=str)\n",
    "test_data = pd.read_csv('test.csv', header=None, dtype=str)\n",
    "\n",
    "# Convert all columns to numeric\n",
    "train_data = train_data.apply(pd.to_numeric, errors='coerce')\n",
    "test_data = test_data.apply(pd.to_numeric, errors='coerce')\n",
    "\n",
    "# Drop any rows with NaNs\n",
    "train_data = train_data.dropna()\n",
    "test_data = test_data.dropna()\n",
    "\n",
    "# Split into features (X) and labels (y)\n",
    "X_train = train_data.iloc[:, 1:]\n",
    "y_train = train_data.iloc[:, 0]\n",
    "X_test = test_data.iloc[:, 1:]\n",
    "y_test = test_data.iloc[:, 0]\n",
    "\n",
    "# Convert to DMatrix format\n",
    "dtrain = xgb.DMatrix(X_train, label=y_train)\n",
    "dtest = xgb.DMatrix(X_test)\n",
    "\n",
    "# Set parameters and train the model\n",
    "params = {\n",
    "    \"objective\": \"binary:logistic\",\n",
    "    \"max_depth\": 5,\n",
    "    \"eta\": 0.2,\n",
    "    \"gamma\": 4,\n",
    "    \"min_child_weight\": 6,\n",
    "    \"subsample\": 0.8,\n",
    "    \"verbosity\": 1\n",
    "}\n",
    "\n",
    "model = xgb.train(params=params, dtrain=dtrain, num_boost_round=100)\n",
    "\n",
    "# Predict\n",
    "y_pred_prob = model.predict(dtest)\n",
    "y_pred = [1 if p > 0.5 else 0 for p in y_pred_prob]\n",
    "\n",
    "# Evaluate\n",
    "print(\"Accuracy:\", accuracy_score(y_test, y_pred))\n",
    "print(\"Classification Report:\\n\", classification_report(y_test, y_pred))\n"
   ]
  },
  {
   "cell_type": "code",
   "execution_count": null,
   "id": "419ea659",
   "metadata": {
    "vscode": {
     "languageId": "plaintext"
    }
   },
   "outputs": [],
   "source": [
    "# Create a Sagemaker Model from teh Trained Model Artifact \n",
    "\n",
    "import boto3\n",
    "from sagemaker import image_uris\n",
    "\n",
    "sagemaker_client = boto3.client(\"sagemaker\")\n",
    "region = \"us-east-1\"\n",
    "bucket_name = \"yourBucketName\"\n",
    "model_artifact = f\"s3://your-bucket-name/xgboost-model-output/sagemaker-xgboost-2025-05-21-08-48-39-127/output/model.tar.gz\"\n",
    "model_name = \"cybersecurity-threat-xgboost\"\n",
    "\n",
    "# Get XGBoost image URI\n",
    "image_uri = image_uris.retrieve(\"xgboost\", region=region, version=\"1.3-1\")\n",
    "\n",
    "# Use actual IAM Role ARN\n",
    "execution_role = \"your-IAM ROLE ARN\"\n",
    "\n",
    "# Register the model\n",
    "response = sagemaker_client.create_model(\n",
    "    ModelName=model_name,\n",
    "    PrimaryContainer={\n",
    "        \"Image\": image_uri,\n",
    "        \"ModelDataUrl\": model_artifact\n",
    "    },\n",
    "    ExecutionRoleArn=execution_role\n",
    ")\n",
    "\n",
    "print(f\"Model {model_name} registered successfully in SageMaker!\")"
   ]
  },
  {
   "cell_type": "code",
   "execution_count": null,
   "id": "ed0cfe2c",
   "metadata": {
    "vscode": {
     "languageId": "plaintext"
    }
   },
   "outputs": [],
   "source": [
    "# Deploy the Model as a SagemMaker Endpoint\n",
    "\n",
    "# Define model name if not already defined\n",
    "model_name = \"cybersecurity-threat-xgboost\"\n",
    "\n",
    "# Define endpoint configuration\n",
    "endpoint_config_name = \"cybersecurity-threat-config\"\n",
    "\n",
    "sagemaker_client.create_endpoint_config(\n",
    "    EndpointConfigName=endpoint_config_name,\n",
    "    ProductionVariants=[\n",
    "        {\n",
    "            \"VariantName\": \"DefaultVariant\",\n",
    "            \"ModelName\": model_name,\n",
    "            \"InstanceType\": \"ml.m5.large\",\n",
    "            \"InitialInstanceCount\": 1,\n",
    "            \"InitialVariantWeight\": 1\n",
    "        }\n",
    "    ]\n",
    ")\n",
    "\n",
    "# Deploy endpoint\n",
    "endpoint_name = \"cybersecurity-threat-endpoint\"\n",
    "\n",
    "sagemaker_client.create_endpoint(\n",
    "    EndpointName=endpoint_name,\n",
    "    EndpointConfigName=endpoint_config_name\n",
    ")\n"
   ]
  },
  {
   "cell_type": "code",
   "execution_count": null,
   "id": "20ec9dcd",
   "metadata": {
    "vscode": {
     "languageId": "plaintext"
    }
   },
   "outputs": [],
   "source": [
    "# Test the Deployed Endpoint \n",
    "\n",
    "import boto3\n",
    "import numpy as np\n",
    "\n",
    "runtime_client = boto3.client(\"sagemaker-runtime\")\n",
    "\n",
    "# Sample input in CSV format\n",
    "sample_input = \"0.5,0.3,0.8,0.2,0.1,0.6,0.9,0.4\"\n",
    "\n",
    "# Invoke the endpoint\n",
    "response = runtime_client.invoke_endpoint(\n",
    "    EndpointName=\"cybersecurity-threat-endpoint\",  # or use endpoint_name if defined\n",
    "    ContentType=\"text/csv\",\n",
    "    Body=sample_input\n",
    ")\n",
    "\n",
    "# Get prediction from response\n",
    "result = response[\"Body\"].read().decode(\"utf-8\")\n",
    "prediction_score = float(result.strip())\n",
    "\n",
    "# Interpret prediction\n",
    "predicted_label = \"THREAT\" if prediction_score > 0.5 else \"SAFE\"\n",
    "\n",
    "print(f\"Prediction: {predicted_label}\")"
   ]
  },
  {
   "cell_type": "code",
   "execution_count": null,
   "id": "a8047cc6",
   "metadata": {
    "vscode": {
     "languageId": "plaintext"
    }
   },
   "outputs": [],
   "source": [
    "# Create A SageMaker Pipeline Definition\n",
    "\n",
    "# SageMaker Pipeline\n",
    "import boto3\n",
    "import sagemaker\n",
    "from sagemaker.workflow.pipeline import Pipeline\n",
    "from sagemaker.workflow.steps import TrainingStep\n",
    "from sagemaker.workflow.parameters import ParameterString\n",
    "from sagemaker.inputs import TrainingInput\n",
    "from sagemaker import image_uris\n",
    "\n",
    "# Setup\n",
    "session = sagemaker.Session()\n",
    "role = sagemaker.get_execution_role()\n",
    "bucket = 'your-bucket-name'\n",
    "\n",
    "# Parameters\n",
    "training_instance_type = ParameterString(\n",
    "    name=\"TrainingInstanceType\", \n",
    "    default_value=\"ml.m5.large\"\n",
    ")\n",
    "\n",
    "# Use built-in XGBoost (same as your step 3.3)\n",
    "xgb_estimator = sagemaker.estimator.Estimator(\n",
    "    image_uri=image_uris.retrieve(\"xgboost\", session.boto_region_name, version=\"1.3-1\"),\n",
    "    role=role,\n",
    "    instance_count=1,\n",
    "    instance_type=training_instance_type,\n",
    "    output_path=f's3://{bucket}/pipeline-model-output/',\n",
    "    hyperparameters={\n",
    "        'objective': 'binary:logistic',\n",
    "        'num_round': 100,\n",
    "        'max_depth': 5,\n",
    "        'eta': 0.2,\n",
    "        'gamma': 4,\n",
    "        'min_child_weight': 6,\n",
    "        'subsample': 0.8,\n",
    "        'verbosity': 1\n",
    "    }\n",
    ")\n",
    "\n",
    "# Training Step\n",
    "step_train = TrainingStep(\n",
    "    name=\"TrainCybersecurityModel\",\n",
    "    estimator=xgb_estimator,\n",
    "    inputs={\n",
    "        \"train\": TrainingInput(\n",
    "            s3_data=f's3://{bucket}/xgboost-data/train/train.libsvm',\n",
    "            content_type=\"text/libsvm\"\n",
    "        ),\n",
    "        \"validation\": TrainingInput(\n",
    "            s3_data=f's3://{bucket}/xgboost-data/test/test.libsvm',\n",
    "            content_type=\"text/libsvm\"\n",
    "        )\n",
    "    }\n",
    ")\n",
    "\n",
    "# Create Pipeline\n",
    "pipeline = Pipeline(\n",
    "    name=\"simple-cybersecurity-pipeline\",\n",
    "    parameters=[training_instance_type],\n",
    "    steps=[step_train],\n",
    "    sagemaker_session=session,\n",
    ")\n",
    "\n",
    "# Run Pipeline\n",
    "def run_pipeline():\n",
    "    pipeline.upsert(role_arn=role)\n",
    "    print(\"Pipeline created successfully!\")\n",
    "    \n",
    "    execution = pipeline.start()\n",
    "    print(f\"Pipeline execution started: {execution.arn}\")\n",
    "    return execution\n",
    "\n"
   ]
  },
  {
   "cell_type": "code",
   "execution_count": null,
   "id": "85f80196",
   "metadata": {
    "vscode": {
     "languageId": "plaintext"
    }
   },
   "outputs": [],
   "source": [
    "# Trigger the Pipeline execution\n",
    "\n",
    "execution = run_pipeline()"
   ]
  },
  {
   "cell_type": "code",
   "execution_count": null,
   "id": "9dc07c22",
   "metadata": {
    "vscode": {
     "languageId": "plaintext"
    }
   },
   "outputs": [],
   "source": [
    "# Check Status\n",
    "\n",
    "status = execution.describe()['PipelineExecutionStatus']\n",
    "print(f\"Pipeline Status: {status}\")"
   ]
  },
  {
   "cell_type": "code",
   "execution_count": null,
   "id": "93cb2c3c",
   "metadata": {
    "vscode": {
     "languageId": "plaintext"
    }
   },
   "outputs": [],
   "source": [
    "# Test Pipeline After Setting Up EventBridge\n",
    "\n",
    "import boto3\n",
    "\n",
    "s3_client = boto3.client('s3')\n",
    "\n",
    "# Upload a test file to trigger the pipeline\n",
    "test_content = \"This is test data for pipeline automation\"\n",
    "s3_client.put_object(\n",
    "    Bucket='cybersecurity-ml-data1',\n",
    "    Key='new-data/test-trigger.txt',\n",
    "    Body=test_content\n",
    ")"
   ]
  }
 ],
 "metadata": {
  "language_info": {
   "name": "python"
  }
 },
 "nbformat": 4,
 "nbformat_minor": 5
}
